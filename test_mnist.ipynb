{
 "cells": [
  {
   "cell_type": "code",
   "execution_count": 37,
   "id": "f91ff801",
   "metadata": {},
   "outputs": [],
   "source": [
    "\n",
    "import json\n",
    "import sys\n",
    "import os\n",
    "import time\n",
    "import numpy as np\n",
    "import cv2\n",
    "import onnx\n",
    "import onnxruntime\n",
    "from matplotlib import pyplot as plt\n",
    "from onnx import numpy_helper\n",
    "\n"
   ]
  },
  {
   "cell_type": "code",
   "execution_count": 38,
   "id": "c7c80ec1",
   "metadata": {},
   "outputs": [],
   "source": [
    "model_dir = \"./mnist\"\n",
    "model = model_dir + \"/model.onnx\"\n"
   ]
  },
  {
   "cell_type": "code",
   "execution_count": 43,
   "id": "3abb2b9e",
   "metadata": {},
   "outputs": [],
   "source": [
    "def read_image(img):\n",
    "    #img = np.dot(img[..., :3], [0.299, 0.587, 0.114])\n",
    "    img = cv2.cvtColor(img, cv2.COLOR_BGR2GRAY)\n",
    "    \n",
    "    img = cv2.resize(img, dsize=(28, 28), interpolation=cv2.INTER_AREA)\n",
    "    #img = cv2.transform(img, np.array([[0.299], [0.587], [0.114]]))\n",
    "\n",
    "    img.resize((1, 1, 28, 28))\n",
    "\n",
    "    data = json.dumps({'data': img.tolist()})\n",
    "    data = np.array(json.loads(data)['data']).astype('float32')\n",
    "\n",
    "    session = onnxruntime.InferenceSession(model, None)\n",
    "    input_name = session.get_inputs()[0].name\n",
    "    output_name = session.get_outputs()[0].name\n",
    "\n",
    "    result = session.run([output_name], {input_name: data})\n",
    "    prediction=int(np.argmax(np.array(result).squeeze(), axis=0))\n",
    "    return prediction"
   ]
  },
  {
   "cell_type": "code",
   "execution_count": 44,
   "id": "d53a5e58",
   "metadata": {},
   "outputs": [
    {
     "name": "stdout",
     "output_type": "stream",
     "text": [
      "2\n"
     ]
    },
    {
     "data": {
      "image/png": "[encoded data removed]",
      "text/plain": [
       "<PIL.Image.Image image mode=RGB size=28x28>"
      ]
     },
     "metadata": {},
     "output_type": "display_data"
    },
    {
     "name": "stdout",
     "output_type": "stream",
     "text": [
      "1\n"
     ]
    },
    {
     "data": {
      "image/png": "[encoded data removed]",
      "text/plain": [
       "<PIL.Image.Image image mode=RGB size=28x28>"
      ]
     },
     "metadata": {},
     "output_type": "display_data"
    },
    {
     "name": "stdout",
     "output_type": "stream",
     "text": [
      "0\n"
     ]
    },
    {
     "data": {
      "image/png": "[encoded data removed]",
      "text/plain": [
       "<PIL.Image.Image image mode=RGB size=28x28>"
      ]
     },
     "metadata": {},
     "output_type": "display_data"
    },
    {
     "name": "stdout",
     "output_type": "stream",
     "text": [
      "1\n"
     ]
    },
    {
     "data": {
      "image/png": "[encoded data removed]",
      "text/plain": [
       "<PIL.Image.Image image mode=RGB size=28x28>"
      ]
     },
     "metadata": {},
     "output_type": "display_data"
    },
    {
     "name": "stdout",
     "output_type": "stream",
     "text": [
      "1\n"
     ]
    },
    {
     "data": {
      "image/png": "[encoded data removed]",
      "text/plain": [
       "<PIL.Image.Image image mode=RGB size=28x28>"
      ]
     },
     "metadata": {},
     "output_type": "display_data"
    },
    {
     "name": "stdout",
     "output_type": "stream",
     "text": [
      "5\n"
     ]
    },
    {
     "data": {
      "image/png": "[encoded data removed]",
      "text/plain": [
       "<PIL.Image.Image image mode=RGB size=28x28>"
      ]
     },
     "metadata": {},
     "output_type": "display_data"
    },
    {
     "name": "stdout",
     "output_type": "stream",
     "text": [
      "1\n"
     ]
    },
    {
     "data": {
      "image/png": "[encoded data removed]",
      "text/plain": [
       "<PIL.Image.Image image mode=RGB size=28x28>"
      ]
     },
     "metadata": {},
     "output_type": "display_data"
    },
    {
     "name": "stdout",
     "output_type": "stream",
     "text": [
      "1\n"
     ]
    },
    {
     "data": {
      "image/png": "[encoded data removed]",
      "text/plain": [
       "<PIL.Image.Image image mode=RGB size=28x28>"
      ]
     },
     "metadata": {},
     "output_type": "display_data"
    },
    {
     "name": "stdout",
     "output_type": "stream",
     "text": [
      "0\n"
     ]
    },
    {
     "data": {
      "image/png": "[encoded data removed]",
      "text/plain": [
       "<PIL.Image.Image image mode=RGB size=28x28>"
      ]
     },
     "metadata": {},
     "output_type": "display_data"
    },
    {
     "name": "stdout",
     "output_type": "stream",
     "text": [
      "7\n"
     ]
    },
    {
     "data": {
      "image/png": "[encoded data removed]",
      "text/plain": [
       "<PIL.Image.Image image mode=RGB size=28x28>"
      ]
     },
     "metadata": {},
     "output_type": "display_data"
    },
    {
     "name": "stdout",
     "output_type": "stream",
     "text": [
      "5\n"
     ]
    },
    {
     "data": {
      "image/png": "[encoded data removed]",
      "text/plain": [
       "<PIL.Image.Image image mode=RGB size=28x28>"
      ]
     },
     "metadata": {},
     "output_type": "display_data"
    }
   ],
   "source": [
    "from PIL import Image\n",
    "from IPython.display import display\n",
    "for index, file_name in enumerate(os.listdir('mnist-test')):\n",
    "    if index > 10:\n",
    "        break\n",
    "    full_filename = os.path.join('mnist-test', file_name)\n",
    "    img = cv2.imread(full_filename)\n",
    "  \n",
    "    #plt.imshow(img)\n",
    "    result = read_image(img)\n",
    "    print(result)\n",
    "    img = img[:,:,::-1]\n",
    "    display(Image.fromarray(img))\n",
    "    "
   ]
  },
  {
   "cell_type": "code",
   "execution_count": 45,
   "id": "5fe4807a",
   "metadata": {},
   "outputs": [
    {
     "name": "stdout",
     "output_type": "stream",
     "text": [
      "Input Name: Input3\n",
      "Output Name: Plus214_Output_0\n",
      "Input Shape: [1, 1, 28, 28]\n",
      "Input Type: tensor(float)\n",
      "Output Shape: [1, 10]\n",
      "Output Type: tensor(float)\n"
     ]
    }
   ],
   "source": [
    "session = onnxruntime.InferenceSession(model)\n",
    "\n",
    "# Get inputs and outputs\n",
    "input_name = session.get_inputs()[0].name\n",
    "output_name = session.get_outputs()[0].name\n",
    "\n",
    "print('Input Name:', input_name)\n",
    "print('Output Name:', output_name)\n",
    "\n",
    "# Print input shape and type\n",
    "print('Input Shape:', session.get_inputs()[0].shape)\n",
    "print('Input Type:', session.get_inputs()[0].type)\n",
    "\n",
    "# Print output shape and type\n",
    "print('Output Shape:', session.get_outputs()[0].shape)\n",
    "print('Output Type:', session.get_outputs()[0].type)"
   ]
  },
  {
   "cell_type": "code",
   "execution_count": 52,
   "id": "bb41b3e7",
   "metadata": {},
   "outputs": [],
   "source": [
    "def read_images_batch(imgs):\n",
    "    processed_imgs = []\n",
    "    for img in imgs:\n",
    "        img = np.dot(img[..., :3], [0.299, 0.587, 0.114])\n",
    "        img = cv2.resize(img, dsize=(28, 28), interpolation=cv2.INTER_AREA)\n",
    "        img = np.resize(img, (1, 28, 28))\n",
    "        processed_imgs.append(img)\n",
    "\n",
    "    data = np.array(processed_imgs).astype('float32')\n",
    "    data = np.reshape(data, (-1, 1, 28, 28))\n",
    "\n",
    "    session = onnxruntime.InferenceSession(model, None)\n",
    "    input_name = session.get_inputs()[0].name\n",
    "    output_name = session.get_outputs()[0].name\n",
    "\n",
    "    result = session.run([output_name], {input_name: data})\n",
    "    prediction = np.argmax(np.array(result).squeeze(), axis=0)\n",
    "    return prediction\n"
   ]
  },
  {
   "cell_type": "code",
   "execution_count": 53,
   "id": "641672c0",
   "metadata": {},
   "outputs": [
    {
     "ename": "InvalidArgument",
     "evalue": "[ONNXRuntimeError] : 2 : INVALID_ARGUMENT : Got invalid dimensions for input: Input3 for the following indices\n index: 0 Got: 11 Expected: 1\n Please fix either the inputs or the model.",
     "output_type": "error",
     "traceback": [
      "\u001b[0;31m---------------------------------------------------------------------------\u001b[0m",
      "\u001b[0;31mInvalidArgument\u001b[0m                           Traceback (most recent call last)",
      "Cell \u001b[0;32mIn[53], line 9\u001b[0m\n\u001b[1;32m      7\u001b[0m     img \u001b[38;5;241m=\u001b[39m cv2\u001b[38;5;241m.\u001b[39mimread(full_filename)\n\u001b[1;32m      8\u001b[0m     all_imgs\u001b[38;5;241m.\u001b[39mappend(img)\n\u001b[0;32m----> 9\u001b[0m \u001b[43mread_images_batch\u001b[49m\u001b[43m(\u001b[49m\u001b[43mall_imgs\u001b[49m\u001b[43m)\u001b[49m\n",
      "Cell \u001b[0;32mIn[52], line 16\u001b[0m, in \u001b[0;36mread_images_batch\u001b[0;34m(imgs)\u001b[0m\n\u001b[1;32m     13\u001b[0m input_name \u001b[38;5;241m=\u001b[39m session\u001b[38;5;241m.\u001b[39mget_inputs()[\u001b[38;5;241m0\u001b[39m]\u001b[38;5;241m.\u001b[39mname\n\u001b[1;32m     14\u001b[0m output_name \u001b[38;5;241m=\u001b[39m session\u001b[38;5;241m.\u001b[39mget_outputs()[\u001b[38;5;241m0\u001b[39m]\u001b[38;5;241m.\u001b[39mname\n\u001b[0;32m---> 16\u001b[0m result \u001b[38;5;241m=\u001b[39m \u001b[43msession\u001b[49m\u001b[38;5;241;43m.\u001b[39;49m\u001b[43mrun\u001b[49m\u001b[43m(\u001b[49m\u001b[43m[\u001b[49m\u001b[43moutput_name\u001b[49m\u001b[43m]\u001b[49m\u001b[43m,\u001b[49m\u001b[43m \u001b[49m\u001b[43m{\u001b[49m\u001b[43minput_name\u001b[49m\u001b[43m:\u001b[49m\u001b[43m \u001b[49m\u001b[43mdata\u001b[49m\u001b[43m}\u001b[49m\u001b[43m)\u001b[49m\n\u001b[1;32m     17\u001b[0m prediction \u001b[38;5;241m=\u001b[39m np\u001b[38;5;241m.\u001b[39margmax(np\u001b[38;5;241m.\u001b[39marray(result)\u001b[38;5;241m.\u001b[39msqueeze(), axis\u001b[38;5;241m=\u001b[39m\u001b[38;5;241m0\u001b[39m)\n\u001b[1;32m     18\u001b[0m \u001b[38;5;28;01mreturn\u001b[39;00m prediction\n",
      "File \u001b[0;32m~/anaconda3/envs/test-onnx/lib/python3.10/site-packages/onnxruntime/capi/onnxruntime_inference_collection.py:217\u001b[0m, in \u001b[0;36mSession.run\u001b[0;34m(self, output_names, input_feed, run_options)\u001b[0m\n\u001b[1;32m    215\u001b[0m     output_names \u001b[38;5;241m=\u001b[39m [output\u001b[38;5;241m.\u001b[39mname \u001b[38;5;28;01mfor\u001b[39;00m output \u001b[38;5;129;01min\u001b[39;00m \u001b[38;5;28mself\u001b[39m\u001b[38;5;241m.\u001b[39m_outputs_meta]\n\u001b[1;32m    216\u001b[0m \u001b[38;5;28;01mtry\u001b[39;00m:\n\u001b[0;32m--> 217\u001b[0m     \u001b[38;5;28;01mreturn\u001b[39;00m \u001b[38;5;28;43mself\u001b[39;49m\u001b[38;5;241;43m.\u001b[39;49m\u001b[43m_sess\u001b[49m\u001b[38;5;241;43m.\u001b[39;49m\u001b[43mrun\u001b[49m\u001b[43m(\u001b[49m\u001b[43moutput_names\u001b[49m\u001b[43m,\u001b[49m\u001b[43m \u001b[49m\u001b[43minput_feed\u001b[49m\u001b[43m,\u001b[49m\u001b[43m \u001b[49m\u001b[43mrun_options\u001b[49m\u001b[43m)\u001b[49m\n\u001b[1;32m    218\u001b[0m \u001b[38;5;28;01mexcept\u001b[39;00m C\u001b[38;5;241m.\u001b[39mEPFail \u001b[38;5;28;01mas\u001b[39;00m err:\n\u001b[1;32m    219\u001b[0m     \u001b[38;5;28;01mif\u001b[39;00m \u001b[38;5;28mself\u001b[39m\u001b[38;5;241m.\u001b[39m_enable_fallback:\n",
      "\u001b[0;31mInvalidArgument\u001b[0m: [ONNXRuntimeError] : 2 : INVALID_ARGUMENT : Got invalid dimensions for input: Input3 for the following indices\n index: 0 Got: 11 Expected: 1\n Please fix either the inputs or the model."
     ]
    }
   ],
   "source": [
    "all_imgs = []\n",
    "for index, file_name in enumerate(os.listdir('mnist-test')):\n",
    "    if index > 10:\n",
    "        break\n",
    "        \n",
    "    full_filename = os.path.join('mnist-test', file_name)\n",
    "    img = cv2.imread(full_filename)\n",
    "    all_imgs.append(img)\n",
    "read_images_batch(all_imgs)"
   ]
  },
  {
   "cell_type": "code",
   "execution_count": null,
   "id": "be768491",
   "metadata": {},
   "outputs": [],
   "source": []
  }
 ],
 "metadata": {
  "kernelspec": {
   "display_name": "Python 3 (ipykernel)",
   "language": "python",
   "name": "python3"
  },
  "language_info": {
   "codemirror_mode": {
    "name": "ipython",
    "version": 3
   },
   "file_extension": ".py",
   "mimetype": "text/x-python",
   "name": "python",
   "nbconvert_exporter": "python",
   "pygments_lexer": "ipython3",
   "version": "3.10.11"
  }
 },
 "nbformat": 4,
 "nbformat_minor": 5
}
